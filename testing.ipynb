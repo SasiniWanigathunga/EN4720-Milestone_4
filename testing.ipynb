{
 "cells": [
  {
   "cell_type": "markdown",
   "id": "0b0fd153",
   "metadata": {},
   "source": [
    "# Cyber-Attack Detection in a Smart Home System"
   ]
  },
  {
   "cell_type": "code",
   "execution_count": 1,
   "id": "d912dfc9",
   "metadata": {},
   "outputs": [],
   "source": [
    "from main import AttackDetector\n",
    "detector = AttackDetector()"
   ]
  },
  {
   "cell_type": "markdown",
   "id": "eda41a3a",
   "metadata": {},
   "source": [
    "### Normal Operations (should not trigger alerts)"
   ]
  },
  {
   "cell_type": "code",
   "execution_count": 2,
   "id": "c40cca0c",
   "metadata": {},
   "outputs": [
    {
     "name": "stdout",
     "output_type": "stream",
     "text": [
      "  login_attempt   | Role: USER    | Threat: NO\n",
      "  toggle_device   | Role: USER    | Threat: NO\n",
      "  power_reading   | Role: ADMIN   | Threat: NO\n"
     ]
    }
   ],
   "source": [
    "normal_scenarios = [\n",
    "    (\"login_attempt\", \"USER\", \"user123\", \"192.168.1.100\", {\"success\": True}),\n",
    "    (\"toggle_device\", \"USER\", \"user123\", \"192.168.1.100\", {\"device_id\": \"light_001\", \"action\": \"on\"}),\n",
    "    (\"power_reading\", \"ADMIN\", \"admin123\", \"device_001\", {\"device_id\": \"device_001\", \"value\": 95.0})\n",
    "]\n",
    "\n",
    "for event_name, user_role, user_id, source_id, context in normal_scenarios:\n",
    "    threat = detector.instrument(event_name, user_role, user_id, source_id, context=context)\n",
    "    print(f\"  {event_name:15} | Role: {user_role:7} | Threat: {'YES' if threat else 'NO'}\")"
   ]
  },
  {
   "cell_type": "markdown",
   "id": "99307b1e",
   "metadata": {},
   "source": [
    "### Attack Scenarios (should trigger alerts)"
   ]
  },
  {
   "cell_type": "code",
   "execution_count": 3,
   "id": "73064fb9",
   "metadata": {},
   "outputs": [
    {
     "name": "stderr",
     "output_type": "stream",
     "text": [
      "2025-06-01 22:37:46,069 - WARNING - THREAT DETECTED: Brute force attack detected: 6 failed logins from 192.168.1.666 in 1 minutes\n"
     ]
    },
    {
     "name": "stdout",
     "output_type": "stream",
     "text": [
      "TESTING BRUTE FORCE LOGIN ATTACK:\n",
      "  Login attempt  1 | Threat detected: NO\n",
      "  Login attempt  2 | Threat detected: NO\n",
      "  Login attempt  3 | Threat detected: NO\n",
      "  Login attempt  4 | Threat detected: NO\n",
      "  Login attempt  5 | Threat detected: NO\n",
      "  Login attempt  6 | Threat detected: YES\n"
     ]
    }
   ],
   "source": [
    "# Test: Failed Login Attack\n",
    "print(\"TESTING BRUTE FORCE LOGIN ATTACK:\")\n",
    "\n",
    "# Simulate 6 failed login attempts in quick succession\n",
    "for i in range(6):\n",
    "    threat = detector.instrument(\n",
    "        \"login_attempt\", \"USER\", f\"attacker{i}\", \"192.168.1.666\",\n",
    "        context={\"success\": False, \"attempt\": i+1}\n",
    "    )\n",
    "    print(f\"  Login attempt {i+1:2} | Threat detected: {'YES' if threat else 'NO'}\")"
   ]
  },
  {
   "cell_type": "code",
   "execution_count": 4,
   "id": "f9001fa9",
   "metadata": {},
   "outputs": [
    {
     "name": "stderr",
     "output_type": "stream",
     "text": [
      "2025-06-01 22:37:46,082 - WARNING - THREAT DETECTED: Device toggle spam detected: 11 commands in 30 seconds for device light_002\n",
      "2025-06-01 22:37:46,084 - WARNING - THREAT DETECTED: Device toggle spam detected: 12 commands in 30 seconds for device light_002\n"
     ]
    },
    {
     "name": "stdout",
     "output_type": "stream",
     "text": [
      "TESTING DEVICE TOGGLE SPAM ATTACK:\n",
      "  Toggle command  1 | Threat detected: NO\n",
      "  Toggle command  2 | Threat detected: NO\n",
      "  Toggle command  3 | Threat detected: NO\n",
      "  Toggle command  4 | Threat detected: NO\n",
      "  Toggle command  5 | Threat detected: NO\n",
      "  Toggle command  6 | Threat detected: NO\n",
      "  Toggle command  7 | Threat detected: NO\n",
      "  Toggle command  8 | Threat detected: NO\n",
      "  Toggle command  9 | Threat detected: NO\n",
      "  Toggle command 10 | Threat detected: NO\n",
      "  Toggle command 11 | Threat detected: YES\n",
      "  Toggle command 12 | Threat detected: YES\n"
     ]
    }
   ],
   "source": [
    "# Test: Device Toggle Spam Attack\n",
    "print(\"TESTING DEVICE TOGGLE SPAM ATTACK:\")\n",
    "\n",
    "# Simulate rapid device toggling\n",
    "for i in range(12):\n",
    "    threat = detector.instrument(\n",
    "        \"toggle_device\", \"USER\", \"spammer123\", \"192.168.1.777\",\n",
    "        context={\"device_id\": \"light_002\", \"action\": \"toggle\", \"sequence\": i+1}\n",
    "    )\n",
    "    print(f\"  Toggle command {i+1:2} | Threat detected: {'YES' if threat else 'NO'}\")"
   ]
  },
  {
   "cell_type": "code",
   "execution_count": 5,
   "id": "309d95be",
   "metadata": {},
   "outputs": [
    {
     "name": "stderr",
     "output_type": "stream",
     "text": [
      "2025-06-01 22:37:46,100 - WARNING - THREAT DETECTED: Power spike detected: 160.0 vs historical average 100.0 for device device_001\n",
      "2025-06-01 22:37:46,101 - WARNING - THREAT DETECTED: Invalid negative or zero power reading: -50.0 for device device_001\n",
      "2025-06-01 22:37:46,102 - WARNING - THREAT DETECTED: Power spike detected: 300.0 vs historical average 100.0 for device device_001\n"
     ]
    },
    {
     "name": "stdout",
     "output_type": "stream",
     "text": [
      "TESTING POWER ANOMALY DETECTION:\n",
      "  Normal reading            | Value:   90.0 | Threat: NO\n",
      "  Spike (160% of average)   | Value:  160.0 | Threat: YES\n",
      "  Invalid negative value    | Value:  -50.0 | Threat: YES\n",
      "  Extreme spike             | Value:  300.0 | Threat: YES\n"
     ]
    }
   ],
   "source": [
    "# Test: Power Anomaly Detection\n",
    "print(\"TESTING POWER ANOMALY DETECTION:\")\n",
    "\n",
    "power_tests = [\n",
    "    (90.0, \"Normal reading\"),\n",
    "    (160.0, \"Spike (160% of average)\"),\n",
    "    (-50.0, \"Invalid negative value\"),\n",
    "    (300.0, \"Extreme spike\")\n",
    "]\n",
    "\n",
    "for power_value, description in power_tests:\n",
    "    threat = detector.instrument(\n",
    "        \"power_reading\", \"USER\", \"monitoring\", \"device_001\",\n",
    "        context={\"device_id\": \"device_001\", \"value\": power_value}\n",
    "    )\n",
    "    print(f\"  {description:25} | Value: {power_value:6.1f} | Threat: {'YES' if threat else 'NO'}\")"
   ]
  },
  {
   "cell_type": "markdown",
   "id": "80bc816b",
   "metadata": {},
   "source": [
    "### Role-aware filtering during business hours"
   ]
  },
  {
   "cell_type": "code",
   "execution_count": 6,
   "id": "e28ece21",
   "metadata": {},
   "outputs": [
    {
     "name": "stdout",
     "output_type": "stream",
     "text": [
      "TESTING BRUTE FORCE LOGIN ATTACK:\n",
      "  Login attempt  1 | Threat detected: NO\n",
      "  Login attempt  2 | Threat detected: NO\n",
      "  Login attempt  3 | Threat detected: NO\n",
      "  Login attempt  4 | Threat detected: NO\n",
      "  Login attempt  5 | Threat detected: NO\n",
      "  Login attempt  6 | Threat detected: NO\n",
      "================================================================================\n",
      "TESTING DEVICE TOGGLE SPAM ATTACK:\n",
      "  Toggle command  1 | Threat detected: NO\n",
      "  Toggle command  2 | Threat detected: NO\n",
      "  Toggle command  3 | Threat detected: NO\n",
      "  Toggle command  4 | Threat detected: NO\n",
      "  Toggle command  5 | Threat detected: NO\n",
      "  Toggle command  6 | Threat detected: NO\n",
      "  Toggle command  7 | Threat detected: NO\n",
      "  Toggle command  8 | Threat detected: NO\n",
      "  Toggle command  9 | Threat detected: NO\n",
      "  Toggle command 10 | Threat detected: NO\n",
      "  Toggle command 11 | Threat detected: NO\n",
      "  Toggle command 12 | Threat detected: NO\n",
      "================================================================================\n",
      "TESTING POWER ANOMALY DETECTION:\n",
      "  Normal reading            | Value:   90.0 | Threat: NO\n",
      "  Spike (160% of average)   | Value:  160.0 | Threat: NO\n",
      "  Invalid negative value    | Value:  -50.0 | Threat: NO\n",
      "  Extreme spike             | Value:  300.0 | Threat: NO\n"
     ]
    }
   ],
   "source": [
    "from datetime import datetime\n",
    "business_hour_time = datetime.now().replace(hour=10, minute=0, second=0)\n",
    "\n",
    "# Test: Failed Login Attack\n",
    "print(\"TESTING BRUTE FORCE LOGIN ATTACK:\")\n",
    "\n",
    "# Simulate 6 failed login attempts in quick succession during business hours\n",
    "for i in range(6):\n",
    "    threat = detector.instrument(\n",
    "        \"login_attempt\", \"ADMIN\", f\"admin{i}\", \"192.168.1.666\", business_hour_time,\n",
    "        context={\"success\": False, \"attempt\": i+1}\n",
    "    )\n",
    "    print(f\"  Login attempt {i+1:2} | Threat detected: {'YES' if threat else 'NO'}\")\n",
    "\n",
    "# Test: Device Toggle Spam Attack\n",
    "print(\"=\" * 80)\n",
    "print(\"TESTING DEVICE TOGGLE SPAM ATTACK:\")\n",
    "\n",
    "# Simulate rapid device toggling during business hours\n",
    "for i in range(12):\n",
    "    threat = detector.instrument(\n",
    "        \"toggle_device\", \"MANAGER\", \"manager123\", \"192.168.1.777\", business_hour_time,\n",
    "        context={\"device_id\": \"light_002\", \"action\": \"toggle\", \"sequence\": i+1}\n",
    "    )\n",
    "    print(f\"  Toggle command {i+1:2} | Threat detected: {'YES' if threat else 'NO'}\")\n",
    "\n",
    "# Test: Power Anomaly Detection\n",
    "print(\"=\" * 80)\n",
    "print(\"TESTING POWER ANOMALY DETECTION:\")\n",
    "\n",
    "power_tests = [\n",
    "    (90.0, \"Normal reading\"),\n",
    "    (160.0, \"Spike (160% of average)\"),\n",
    "    (-50.0, \"Invalid negative value\"),\n",
    "    (300.0, \"Extreme spike\")\n",
    "]\n",
    "\n",
    "for power_value, description in power_tests:\n",
    "    threat = detector.instrument(\n",
    "        \"power_reading\", \"ADMIN\", \"monitoring\", \"device_001\", business_hour_time,\n",
    "        context={\"device_id\": \"device_001\", \"value\": power_value}\n",
    "    )\n",
    "    print(f\"  {description:25} | Value: {power_value:6.1f} | Threat: {'YES' if threat else 'NO'}\")"
   ]
  },
  {
   "cell_type": "markdown",
   "id": "c2e64185",
   "metadata": {},
   "source": [
    "### Testing non business hour scenarios in role-aware filtering"
   ]
  },
  {
   "cell_type": "code",
   "execution_count": 7,
   "id": "a2c2cdf9",
   "metadata": {},
   "outputs": [
    {
     "name": "stderr",
     "output_type": "stream",
     "text": [
      "2025-06-01 22:37:46,130 - WARNING - THREAT DETECTED: Brute force attack detected: 6 failed logins from 192.168.1.666 in 1 minutes\n",
      "2025-06-01 22:37:46,132 - WARNING - THREAT DETECTED: Device toggle spam detected: 11 commands in 30 seconds for device light_002\n",
      "2025-06-01 22:37:46,134 - WARNING - THREAT DETECTED: Device toggle spam detected: 12 commands in 30 seconds for device light_002\n",
      "2025-06-01 22:37:46,135 - WARNING - THREAT DETECTED: Power spike detected: 160.0 vs historical average 100.0 for device device_001\n",
      "2025-06-01 22:37:46,136 - WARNING - THREAT DETECTED: Invalid negative or zero power reading: -50.0 for device device_001\n",
      "2025-06-01 22:37:46,136 - WARNING - THREAT DETECTED: Power spike detected: 300.0 vs historical average 100.0 for device device_001\n"
     ]
    },
    {
     "name": "stdout",
     "output_type": "stream",
     "text": [
      "TESTING BRUTE FORCE LOGIN ATTACK:\n",
      "  Login attempt  1 | Threat detected: NO\n",
      "  Login attempt  2 | Threat detected: NO\n",
      "  Login attempt  3 | Threat detected: NO\n",
      "  Login attempt  4 | Threat detected: NO\n",
      "  Login attempt  5 | Threat detected: NO\n",
      "  Login attempt  6 | Threat detected: YES\n",
      "================================================================================\n",
      "TESTING DEVICE TOGGLE SPAM ATTACK:\n",
      "  Toggle command  1 | Threat detected: NO\n",
      "  Toggle command  2 | Threat detected: NO\n",
      "  Toggle command  3 | Threat detected: NO\n",
      "  Toggle command  4 | Threat detected: NO\n",
      "  Toggle command  5 | Threat detected: NO\n",
      "  Toggle command  6 | Threat detected: NO\n",
      "  Toggle command  7 | Threat detected: NO\n",
      "  Toggle command  8 | Threat detected: NO\n",
      "  Toggle command  9 | Threat detected: NO\n",
      "  Toggle command 10 | Threat detected: NO\n",
      "  Toggle command 11 | Threat detected: YES\n",
      "  Toggle command 12 | Threat detected: YES\n",
      "================================================================================\n",
      "TESTING POWER ANOMALY DETECTION:\n",
      "  Normal reading            | Value:   90.0 | Threat: NO\n",
      "  Spike (160% of average)   | Value:  160.0 | Threat: YES\n",
      "  Invalid negative value    | Value:  -50.0 | Threat: YES\n",
      "  Extreme spike             | Value:  300.0 | Threat: YES\n"
     ]
    }
   ],
   "source": [
    "from datetime import datetime\n",
    "non_business_hour_time = datetime.now().replace(hour=23, minute=0, second=0)\n",
    "\n",
    "# Test: Failed Login Attack\n",
    "print(\"TESTING BRUTE FORCE LOGIN ATTACK:\")\n",
    "\n",
    "# Simulate 6 failed login attempts in quick succession during business hours\n",
    "for i in range(6):\n",
    "    threat = detector.instrument(\n",
    "        \"login_attempt\", \"ADMIN\", f\"admin{i}\", \"192.168.1.666\", non_business_hour_time,\n",
    "        context={\"success\": False, \"attempt\": i+1}\n",
    "    )\n",
    "    print(f\"  Login attempt {i+1:2} | Threat detected: {'YES' if threat else 'NO'}\")\n",
    "\n",
    "# Test: Device Toggle Spam Attack\n",
    "print(\"=\" * 80)\n",
    "print(\"TESTING DEVICE TOGGLE SPAM ATTACK:\")\n",
    "\n",
    "# Simulate rapid device toggling during business hours\n",
    "for i in range(12):\n",
    "    threat = detector.instrument(\n",
    "        \"toggle_device\", \"MANAGER\", \"manager123\", \"192.168.1.777\", non_business_hour_time,\n",
    "        context={\"device_id\": \"light_002\", \"action\": \"toggle\", \"sequence\": i+1}\n",
    "    )\n",
    "    print(f\"  Toggle command {i+1:2} | Threat detected: {'YES' if threat else 'NO'}\")\n",
    "\n",
    "# Test: Power Anomaly Detection\n",
    "print(\"=\" * 80)\n",
    "print(\"TESTING POWER ANOMALY DETECTION:\")\n",
    "\n",
    "power_tests = [\n",
    "    (90.0, \"Normal reading\"),\n",
    "    (160.0, \"Spike (160% of average)\"),\n",
    "    (-50.0, \"Invalid negative value\"),\n",
    "    (300.0, \"Extreme spike\")\n",
    "]\n",
    "\n",
    "for power_value, description in power_tests:\n",
    "    threat = detector.instrument(\n",
    "        \"power_reading\", \"ADMIN\", \"monitoring\", \"device_001\", non_business_hour_time,\n",
    "        context={\"device_id\": \"device_001\", \"value\": power_value}\n",
    "    )\n",
    "    print(f\"  {description:25} | Value: {power_value:6.1f} | Threat: {'YES' if threat else 'NO'}\")"
   ]
  },
  {
   "cell_type": "markdown",
   "id": "53fc33d1",
   "metadata": {},
   "source": [
    "### Additional anomaly detection functions"
   ]
  },
  {
   "cell_type": "markdown",
   "id": "ab9bc7a8",
   "metadata": {},
   "source": [
    "1. Detect suspicious command patterns"
   ]
  },
  {
   "cell_type": "code",
   "execution_count": 8,
   "id": "20b94cfb",
   "metadata": {},
   "outputs": [
    {
     "name": "stderr",
     "output_type": "stream",
     "text": [
      "2025-06-01 22:37:46,145 - WARNING - THREAT DETECTED: Suspicious command detected: 'rm -rf /' contains pattern 'rm -rf'\n",
      "2025-06-01 22:37:46,147 - WARNING - THREAT DETECTED: Suspicious command detected: 'sudo su' contains pattern 'sudo'\n",
      "2025-06-01 22:37:46,148 - WARNING - THREAT DETECTED: Suspicious command detected: 'cat /etc/passwd' contains pattern 'passwd'\n",
      "2025-06-01 22:37:46,149 - WARNING - THREAT DETECTED: Suspicious command detected: 'curl http://malicious.com' contains pattern 'curl'\n"
     ]
    },
    {
     "name": "stdout",
     "output_type": "stream",
     "text": [
      "TESTING SUSPICIOUS COMMAND EXECUTION:\n",
      "  Command: rm -rf / | Threat detected: YES\n",
      "  Command: sudo su | Threat detected: YES\n",
      "  Command: cat /etc/passwd | Threat detected: YES\n",
      "  Command: curl http://malicious.com | Threat detected: YES\n",
      "  Command: ls -la | Threat detected: NO\n",
      "  Command: git status | Threat detected: NO\n"
     ]
    }
   ],
   "source": [
    "# Test: Suspicious command execution\n",
    "print(\"TESTING SUSPICIOUS COMMAND EXECUTION:\")\n",
    "suspicious_commands = [\n",
    "    (\"execute_command\", \"USER\", \"admin123\", \"192.168.1.888\", {\"command\": \"rm -rf /\"}),\n",
    "    (\"execute_command\", \"USER\", \"user123\", \"192.168.1.999\", {\"command\": \"sudo su\"}),\n",
    "    (\"execute_command\", \"USER\", \"guest123\", \"192.168.1.100\", {\"command\": \"cat /etc/passwd\"}),\n",
    "    (\"execute_command\", \"USER\", \"malicious_user\", \"192.168.1.101\", {\"command\": \"curl http://malicious.com\"}),\n",
    "    (\"execute_command\", \"USER\", \"normaluser\", \"192.168.1.102\", {\"command\": \"ls -la\"}),\n",
    "    (\"execute_command\", \"USER\", \"admin123\", \"192.168.1.103\", {\"command\": \"git status\"})\n",
    "]\n",
    "\n",
    "for command, role, user, source, context in suspicious_commands:\n",
    "    threat = detector.instrument(\n",
    "        command, role, user, source, context=context\n",
    "    )\n",
    "    print(f\"  Command: {context['command']} | Threat detected: {'YES' if threat else 'NO'}\")"
   ]
  },
  {
   "cell_type": "code",
   "execution_count": 9,
   "id": "abbaa3e2",
   "metadata": {},
   "outputs": [
    {
     "name": "stderr",
     "output_type": "stream",
     "text": [
      "2025-06-01 22:37:46,159 - WARNING - THREAT DETECTED: Suspicious command detected: 'rm -rf /' contains pattern 'rm -rf'\n",
      "2025-06-01 22:37:46,160 - WARNING - THREAT DETECTED: Suspicious command detected: 'sudo su' contains pattern 'sudo'\n",
      "2025-06-01 22:37:46,161 - WARNING - THREAT DETECTED: Suspicious command detected: 'cat /etc/passwd' contains pattern 'passwd'\n",
      "2025-06-01 22:37:46,162 - WARNING - THREAT DETECTED: Suspicious command detected: 'curl http://malicious.com' contains pattern 'curl'\n"
     ]
    },
    {
     "name": "stdout",
     "output_type": "stream",
     "text": [
      "TESTING ROLE-AWARE FILTERING IN BUSINESS HOURS:\n",
      "  Command: rm -rf / | Threat detected: NO\n",
      "  Command: sudo su | Threat detected: NO\n",
      "  Command: cat /etc/passwd | Threat detected: NO\n",
      "  Command: curl http://malicious.com | Threat detected: NO\n",
      "  Command: ls -la | Threat detected: NO\n",
      "  Command: git status | Threat detected: NO\n",
      "TESTING ROLE-AWARE FILTERING IN NON-BUSINESS HOURS:\n",
      "  Command: rm -rf / | Threat detected: YES\n",
      "  Command: sudo su | Threat detected: YES\n",
      "  Command: cat /etc/passwd | Threat detected: YES\n",
      "  Command: curl http://malicious.com | Threat detected: YES\n",
      "  Command: ls -la | Threat detected: NO\n",
      "  Command: git status | Threat detected: NO\n"
     ]
    }
   ],
   "source": [
    "# Testing role-aware filtering in business and non-business hours\n",
    "from datetime import datetime\n",
    "business_hour_time = datetime.now().replace(hour=10, minute=0, second=0)\n",
    "non_business_hour_time = datetime.now().replace(hour=23, minute=0, second=0)\n",
    "suspicious_commands = [\n",
    "    (\"execute_command\", \"ADMIN\", \"admin123\", \"192.168.1.888\", {\"command\": \"rm -rf /\"}),\n",
    "    (\"execute_command\", \"MANAGER\", \"user123\", \"192.168.1.999\", {\"command\": \"sudo su\"}),\n",
    "    (\"execute_command\", \"ADMIN\", \"guest123\", \"192.168.1.100\", {\"command\": \"cat /etc/passwd\"}),\n",
    "    (\"execute_command\", \"MANAGER\", \"malicious_user\", \"192.168.1.101\", {\"command\": \"curl http://malicious.com\"}),\n",
    "    (\"execute_command\", \"ADMIN\", \"normaluser\", \"192.168.1.102\", {\"command\": \"ls -la\"}),\n",
    "    (\"execute_command\", \"MANAGER\", \"admin123\", \"192.168.1.103\", {\"command\": \"git status\"})\n",
    "]\n",
    "\n",
    "print(\"TESTING ROLE-AWARE FILTERING IN BUSINESS HOURS:\")\n",
    "for command, role, user, source, context in suspicious_commands:\n",
    "    threat = detector.instrument(\n",
    "        command, role, user, source, business_hour_time, context=context\n",
    "    )\n",
    "    print(f\"  Command: {context['command']} | Threat detected: {'YES' if threat else 'NO'}\")\n",
    "\n",
    "print(\"TESTING ROLE-AWARE FILTERING IN NON-BUSINESS HOURS:\")\n",
    "for command, role, user, source, context in suspicious_commands:\n",
    "    threat = detector.instrument(\n",
    "        command, role, user, source, non_business_hour_time, context=context\n",
    "    )\n",
    "    print(f\"  Command: {context['command']} | Threat detected: {'YES' if threat else 'NO'}\")"
   ]
  },
  {
   "cell_type": "code",
   "execution_count": 10,
   "id": "a160ab1f",
   "metadata": {},
   "outputs": [
    {
     "name": "stderr",
     "output_type": "stream",
     "text": [
      "2025-06-01 22:37:46,172 - WARNING - THREAT DETECTED: Excessive command execution: 6 commands in 5 minutes\n",
      "2025-06-01 22:37:46,174 - WARNING - THREAT DETECTED: Excessive command execution: 7 commands in 5 minutes\n"
     ]
    },
    {
     "name": "stdout",
     "output_type": "stream",
     "text": [
      "TESTING EXCESSIVE NORMAL COMMAND EXECUTION:\n",
      "  Command execution  1 | Threat detected: NO\n",
      "  Command execution  2 | Threat detected: NO\n",
      "  Command execution  3 | Threat detected: NO\n",
      "  Command execution  4 | Threat detected: NO\n",
      "  Command execution  5 | Threat detected: NO\n",
      "  Command execution  6 | Threat detected: YES\n",
      "  Command execution  7 | Threat detected: YES\n"
     ]
    }
   ],
   "source": [
    "# Excessive normal command execution\n",
    "print(\"TESTING EXCESSIVE NORMAL COMMAND EXECUTION:\")\n",
    "excessive_commands = [\n",
    "    (\"execute_command\", \"USER\", \"user123\", \"192.168.1.888\", {\"command\": \"git status\"})\n",
    "]\n",
    "\n",
    "for i in range(7):\n",
    "    threat = detector.instrument(\n",
    "        \"execute_command\", \"USER\", \"user123\", \"192.168.1.888\",\n",
    "        context={\"command\": \"git status\", \"sequence\": i+1}\n",
    "    )\n",
    "    print(f\"  Command execution {i+1:2} | Threat detected: {'YES' if threat else 'NO'}\")"
   ]
  },
  {
   "cell_type": "markdown",
   "id": "3a3c4453",
   "metadata": {},
   "source": [
    "2. Detect session hijacking"
   ]
  },
  {
   "cell_type": "code",
   "execution_count": 11,
   "id": "de2a352f",
   "metadata": {},
   "outputs": [
    {
     "name": "stdout",
     "output_type": "stream",
     "text": [
      "TESTING SESSION HIJACKING DETECTION:\n",
      "   User-Agent helps detect when attackers use different tools/browsers\n",
      "  Scenario 1: Normal session usage\n",
      "    Initial login     | Threat detected: NO\n",
      "    Normal API call   | Threat detected: NO\n"
     ]
    }
   ],
   "source": [
    "# Test: Session Hijacking Detection\n",
    "print(\"TESTING SESSION HIJACKING DETECTION:\")\n",
    "print(\"   User-Agent helps detect when attackers use different tools/browsers\")\n",
    "\n",
    "# Scenario 1: Normal session usage (same IP, same user agent)\n",
    "print(\"  Scenario 1: Normal session usage\")\n",
    "session_token = \"session_abc123\"\n",
    "# Typical Chrome browser user agent\n",
    "user_agent = \"Mozilla/5.0 (Windows NT 10.0; Win64; x64) AppleWebKit/537.36 (KHTML, like Gecko) Chrome/91.0.4472.124 Safari/537.36\"\n",
    "\n",
    "# Initial login\n",
    "threat = detector.instrument(\n",
    "    \"login_attempt\", \"USER\", \"victim_user\", \"192.168.1.50\",\n",
    "    context={\"success\": True, \"session_token\": session_token, \"user_agent\": user_agent}\n",
    ")\n",
    "print(f\"    Initial login     | Threat detected: {'YES' if threat else 'NO'}\")\n",
    "\n",
    "# Normal API call from same source\n",
    "threat = detector.instrument(\n",
    "    \"api_call\", \"USER\", \"victim_user\", \"192.168.1.50\",\n",
    "    \n",
    "    context={\"endpoint\": \"/profile\", \"session_token\": session_token, \"user_agent\": user_agent}\n",
    ")\n",
    "print(f\"    Normal API call   | Threat detected: {'YES' if threat else 'NO'}\")"
   ]
  },
  {
   "cell_type": "code",
   "execution_count": 12,
   "id": "f4641cea",
   "metadata": {},
   "outputs": [
    {
     "name": "stderr",
     "output_type": "stream",
     "text": [
      "2025-06-01 22:37:46,203 - WARNING - THREAT DETECTED: Session hijacking detected: Session token for user victim_user used from 192.168.1.50 now being used from 10.0.0.100. Source changes: 1, Time since last activity: 0.0 minutes\n"
     ]
    },
    {
     "name": "stdout",
     "output_type": "stream",
     "text": [
      "\n",
      "  Scenario 2: Session hijacking - different IP\n",
      "    Hijacked API call | Threat detected: YES\n"
     ]
    }
   ],
   "source": [
    "# Scenario 2: Session hijacking - different IP, same session token\n",
    "print(\"\\n  Scenario 2: Session hijacking - different IP\")\n",
    "\n",
    "# Attacker uses the same session token from different IP\n",
    "threat = detector.instrument(\n",
    "    \"api_call\", \"USER\", \"victim_user\", \"10.0.0.100\",  # Different IP\n",
    "    context={\"endpoint\": \"/sensitive\", \"session_token\": session_token, \"user_agent\": user_agent}\n",
    ")\n",
    "print(f\"    Hijacked API call | Threat detected: {'YES' if threat else 'NO'}\")"
   ]
  },
  {
   "cell_type": "code",
   "execution_count": 13,
   "id": "ebe15219",
   "metadata": {},
   "outputs": [
    {
     "name": "stderr",
     "output_type": "stream",
     "text": [
      "2025-06-01 22:37:46,218 - WARNING - THREAT DETECTED: Session hijacking detected: Session token for user another_user used from 192.168.1.75 now being used from 203.0.113.5. Source changes: 1, Time since last activity: 0.0 minutes, User-Agent changed from 'Mozilla/5.0 (Windows NT 10.0; Win64; x64) AppleWebKit/537.36' to 'curl/7.68.0'\n"
     ]
    },
    {
     "name": "stdout",
     "output_type": "stream",
     "text": [
      "\n",
      "  Scenario 3: Session hijacking - different IP and User-Agent\n",
      "             (Legitimate user vs. attacker using command-line tools)\n",
      "    User login (browser)     | Threat detected: NO\n",
      "    Hijack (curl tool)       | Threat detected: YES\n",
      "    User-Agent changed from browser to curl - highly suspicious!\n"
     ]
    }
   ],
   "source": [
    "# Scenario 3: Session hijacking with user agent change\n",
    "print(\"\\n  Scenario 3: Session hijacking - different IP and User-Agent\")\n",
    "print(\"             (Legitimate user vs. attacker using command-line tools)\")\n",
    "\n",
    "new_session = \"session_xyz789\"\n",
    "# Normal browser user agent\n",
    "original_agent = \"Mozilla/5.0 (Windows NT 10.0; Win64; x64) AppleWebKit/537.36\"\n",
    "# Suspicious command-line tool user agent\n",
    "malicious_agent = \"curl/7.68.0\"\n",
    "\n",
    "# Legitimate user establishes session\n",
    "threat = detector.instrument(\n",
    "    \"login_attempt\", \"USER\", \"another_user\", \"192.168.1.75\",\n",
    "    context={\"success\": True, \"session_token\": new_session, \"user_agent\": original_agent}\n",
    ")\n",
    "print(f\"    User login (browser)     | Threat detected: {'YES' if threat else 'NO'}\")\n",
    "\n",
    "# Attacker hijacks with different IP and User-Agent (curl tool)\n",
    "threat = detector.instrument(\n",
    "    \"api_call\", \"USER\", \"another_user\", \"203.0.113.5\",  # Different IP\n",
    "    context={\"endpoint\": \"/admin\", \"session_token\": new_session, \"user_agent\": malicious_agent}\n",
    ")\n",
    "print(f\"    Hijack (curl tool)       | Threat detected: {'YES' if threat else 'NO'}\")\n",
    "print(f\"    User-Agent changed from browser to curl - highly suspicious!\")"
   ]
  },
  {
   "cell_type": "code",
   "execution_count": 14,
   "id": "0ce29d00",
   "metadata": {},
   "outputs": [
    {
     "name": "stderr",
     "output_type": "stream",
     "text": [
      "2025-06-01 22:37:46,232 - WARNING - THREAT DETECTED: Session hijacking detected: Session token for user mobile_user used from 192.168.1.200 now being used from 198.51.100.10. Source changes: 1, Time since last activity: 0.0 minutes\n"
     ]
    },
    {
     "name": "stdout",
     "output_type": "stream",
     "text": [
      "\n",
      "  Scenario 4: Rapid session location switch\n",
      "    Office activity   | Threat detected: NO\n",
      "    Rapid location sw | Threat detected: YES\n"
     ]
    }
   ],
   "source": [
    "# Scenario 4: Rapid session switch (suspicious timing)\n",
    "print(\"\\n  Scenario 4: Rapid session location switch\")\n",
    "\n",
    "rapid_session = \"session_rapid456\"\n",
    "\n",
    "# User activity from office\n",
    "threat = detector.instrument(\n",
    "    \"api_call\", \"USER\", \"mobile_user\", \"192.168.1.200\",\n",
    "    context={\"endpoint\": \"/data\", \"session_token\": rapid_session, \"user_agent\": original_agent}\n",
    ")\n",
    "print(f\"    Office activity   | Threat detected: {'YES' if threat else 'NO'}\")\n",
    "\n",
    "# Same session used from home immediately (suspicious)\n",
    "threat = detector.instrument(\n",
    "    \"api_call\", \"USER\", \"mobile_user\", \"198.51.100.10\",  # Different location\n",
    "    context={\"endpoint\": \"/files\", \"session_token\": rapid_session, \"user_agent\": original_agent}\n",
    ")\n",
    "print(f\"    Rapid location sw | Threat detected: {'YES' if threat else 'NO'}\")"
   ]
  },
  {
   "cell_type": "code",
   "execution_count": 15,
   "id": "8bafb8ff",
   "metadata": {},
   "outputs": [
    {
     "name": "stderr",
     "output_type": "stream",
     "text": [
      "2025-06-01 22:37:46,245 - WARNING - THREAT DETECTED: Session hijacking detected: Session token for user mobile_user used from 198.51.100.10 now being used from 192.168.1.200. Source changes: 2, Time since last activity: 22.2 minutes\n"
     ]
    },
    {
     "name": "stdout",
     "output_type": "stream",
     "text": [
      "\n",
      "  Scenario 4: Rapid session location switch\n",
      "    Office activity   | Threat detected: NO\n",
      "    Rapid location sw | Threat detected: NO\n",
      "\n",
      "  Scenario 4: Rapid session location switch\n"
     ]
    },
    {
     "name": "stderr",
     "output_type": "stream",
     "text": [
      "2025-06-01 22:37:46,247 - WARNING - THREAT DETECTED: Session hijacking detected: Session token for user mobile_user used from 192.168.1.200 now being used from 198.51.100.10. Source changes: 3, Time since last activity: 0.0 minutes\n"
     ]
    },
    {
     "name": "stdout",
     "output_type": "stream",
     "text": [
      "    Office activity   | Threat detected: YES\n",
      "    Rapid location sw | Threat detected: YES\n"
     ]
    }
   ],
   "source": [
    "# Testing role-aware filtering in business and non-business hours\n",
    "from datetime import datetime\n",
    "business_hour_time = datetime.now().replace(hour=10, minute=0, second=0)\n",
    "non_business_hour_time = datetime.now().replace(hour=23, minute=0, second=0)\n",
    "\n",
    "# Scenario 4: Rapid session switch (suspicious timing)\n",
    "print(\"\\n  Scenario 4: Rapid session location switch\")\n",
    "\n",
    "rapid_session = \"session_rapid456\"\n",
    "\n",
    "# User activity from office\n",
    "threat = detector.instrument(\n",
    "    \"api_call\", \"ADMIN\", \"mobile_user\", \"192.168.1.200\", business_hour_time,\n",
    "    context={\"endpoint\": \"/data\", \"session_token\": rapid_session, \"user_agent\": original_agent}\n",
    ")\n",
    "print(f\"    Office activity   | Threat detected: {'YES' if threat else 'NO'}\")\n",
    "\n",
    "# Same session used from home immediately (suspicious)\n",
    "threat = detector.instrument(\n",
    "    \"api_call\", \"ADMIN\", \"mobile_user\", \"198.51.100.10\", business_hour_time, # Different location\n",
    "    context={\"endpoint\": \"/files\", \"session_token\": rapid_session, \"user_agent\": original_agent}\n",
    ")\n",
    "print(f\"    Rapid location sw | Threat detected: {'YES' if threat else 'NO'}\")\n",
    "\n",
    "# Scenario 4: Rapid session switch (suspicious timing)\n",
    "print(\"\\n  Scenario 4: Rapid session location switch\")\n",
    "\n",
    "rapid_session = \"session_rapid456\"\n",
    "\n",
    "# User activity from office\n",
    "threat = detector.instrument(\n",
    "    \"api_call\", \"ADMIN\", \"mobile_user\", \"192.168.1.200\", non_business_hour_time,\n",
    "    context={\"endpoint\": \"/data\", \"session_token\": rapid_session, \"user_agent\": original_agent}\n",
    ")\n",
    "print(f\"    Office activity   | Threat detected: {'YES' if threat else 'NO'}\")\n",
    "\n",
    "# Same session used from home immediately (suspicious)\n",
    "threat = detector.instrument(\n",
    "    \"api_call\", \"ADMIN\", \"mobile_user\", \"198.51.100.10\", non_business_hour_time, # Different location\n",
    "    context={\"endpoint\": \"/files\", \"session_token\": rapid_session, \"user_agent\": original_agent}\n",
    ")\n",
    "print(f\"    Rapid location sw | Threat detected: {'YES' if threat else 'NO'}\")"
   ]
  },
  {
   "cell_type": "code",
   "execution_count": null,
   "id": "b72d1d02",
   "metadata": {},
   "outputs": [],
   "source": []
  }
 ],
 "metadata": {
  "kernelspec": {
   "display_name": "yolo",
   "language": "python",
   "name": "yolo"
  },
  "language_info": {
   "codemirror_mode": {
    "name": "ipython",
    "version": 3
   },
   "file_extension": ".py",
   "mimetype": "text/x-python",
   "name": "python",
   "nbconvert_exporter": "python",
   "pygments_lexer": "ipython3",
   "version": "3.11.0"
  }
 },
 "nbformat": 4,
 "nbformat_minor": 5
}
